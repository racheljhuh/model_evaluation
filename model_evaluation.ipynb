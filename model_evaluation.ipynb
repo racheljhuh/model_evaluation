{
  "cells": [
    {
      "cell_type": "markdown",
      "id": "897c8b8e-7721-4800-9fe9-269238d0321c",
      "metadata": {
        "id": "897c8b8e-7721-4800-9fe9-269238d0321c"
      },
      "source": [
        "# Model Evaluation and Loose Ends\n",
        "## Foundations of Machine Learning\n",
        "## ! git clone https://www.github.com/DS3001/model_evaluation"
      ]
    },
    {
      "cell_type": "markdown",
      "id": "5cdd0af0-9c6e-4b3b-888b-b4efb4d67720",
      "metadata": {
        "id": "5cdd0af0-9c6e-4b3b-888b-b4efb4d67720"
      },
      "source": [
        "## Evaluating and Comparing Models\n",
        "- We've covered four models: $k$ nearest neighbor, $k$ means clustering, linear models, and decision trees\n",
        "- These models each introduced key ideas and skills for machine learning, and drew conceptual boundaries like supervised v. unsupervised or regression v. classification\n",
        "- The risk of learning a big dictionary of models is that their common elements are obscured by an over-emphasis on their individual mechanics: These tools appear different, but we don't want to lose sight of their common features\n",
        "- This lecture focuses on some general ways of evaluating whether the model is doing a \"good job\" or not and comparing results from models to one another\n",
        "- We're building towards ideas about whether your model will actually work for \"out of sample\" or test predictions, rather than just perform well on the data on which it was trained: This theme will get clearer and more important as we go forward"
      ]
    },
    {
      "cell_type": "markdown",
      "id": "4fcf5c54-535c-4aca-b5e9-b9a6a9f4d00d",
      "metadata": {
        "id": "4fcf5c54-535c-4aca-b5e9-b9a6a9f4d00d"
      },
      "source": [
        "## Loose Ends\n",
        "- Before continuing with this discussion, we have some common model building tasks: Now that you know what models look like and how they're built, we want to get quickly from \"clean data\" to \"fitted model\"\n",
        "- The next few slides are a variety of tasks that you typically have to do in between wrapping up data cleaning but before running an analysis\n",
        "- This will offer more options for \"playing\" with models and comparing them, rather than just getting the basics of fitting them\n",
        "- The emphasis here is on **quickly** doing routine tasks, so we don't get bogged down in code or nuance: Let's knock this stuff out so we can focus on model building and fitting\n",
        "- I like to think of there being a clean `df` object, and we're now creating the `X` object that gets passed to `sklearn` modules for analysis"
      ]
    },
    {
      "cell_type": "markdown",
      "id": "948718e5-3db3-41de-a88c-443bfb33dad7",
      "metadata": {
        "id": "948718e5-3db3-41de-a88c-443bfb33dad7"
      },
      "source": [
        "## Caution When Splitting for Training/Testing\n",
        "- When preprocessing/feature engineering, some tasks depend on the entire vector of data (e.g. maxmin normalization) and some tasks do not (e.g. polynomial expansion)\n",
        "- If you are going to do a training/test split, you should\n",
        "    1. Do the tasks that do not depend on all of the data\n",
        "    2. Split the data\n",
        "    3. Do the tasks that require all of the data only on the training data, and save the details of the transformations to apply them to the test data\n",
        "- For example, if you want to $z$-score normalize the data, save the mean and standard deviation from the training data. When you process the testing data, apply the same transformation, don't create a new one\n",
        "- In practice, if you only get a single data point to make a prediction for, how would you compute its standard deviation?"
      ]
    },
    {
      "cell_type": "markdown",
      "id": "87c7d8bb-15b7-4dd8-b559-684d2e80d536",
      "metadata": {
        "id": "87c7d8bb-15b7-4dd8-b559-684d2e80d536"
      },
      "source": [
        "## Quickly Handling `nan`'s\n",
        "- You did such a great job cleaning the `nan`'s, and now they break `sklearn`. What do you do?\n",
        "    1. The fastest way to handle missing values is `X.dropNA()`: It removes any row including a missing value, allowing you to move on to `sklearn`; this might be too aggressive\n",
        "    2. The next simplest thing to do is replace missings with the average for that variable: `X[var] = X[var].fillna(X[var].mean())`\n",
        "    3. A more ambitious thing to do is use the complete cases and $k$NN to predict values for missings; this at least maintains some of the covariance among features/variables and the target/outcome\n",
        "- Specifically for linear models, the best general approach is:\n",
        "    1. Create a missing dummy variable for each variable (i.e., a vector for which $x_NA=1$ if $x$ is missing and $x_NA=0$ if $x$ is not missing, `X[varName].isnull()`)\n",
        "    2. Replace each missing value with zero\n",
        "- The paradox of imputation is that if you impute values and it changes the answers, your made up data is determining your results; if you impute values and it fails to influence the answers, then the imputation doesn't matter, so why are you doing it?\n",
        "- There are entire books on imputation and multiple imputation"
      ]
    },
    {
      "cell_type": "markdown",
      "id": "0fdf3239-e22f-41c6-9595-424e91bb7977",
      "metadata": {
        "id": "0fdf3239-e22f-41c6-9595-424e91bb7977"
      },
      "source": [
        "## Quick Polynomial and Interaction Features/Variables\n",
        "- It it tedious to compute interaction terms like $x_1 \\times x_2$ or $x^2, x^3, ..., x^m$ on your own, and it's a very common task, so `sklearn` has a convenient tool for accomplishing this\n",
        "- The `PolynomialFeatures` is the object in `sklearn.preprocessing` that can quickly create matrices of exponenetiated variables for you without doing it yourself\n",
        "- The basic steps are:\n",
        "    1. Import the object: `from sklearn.preprocessing import PolynomialFeatures`\n",
        "    2. Decide the degree of the expansion and create an expander: `expander = PolynomialFeatures(degree=2,include_bias=False)`\n",
        "    3. Execute the transformations: `Z = expander.fit_transform(X)` and get labels for the columns `names = expander.get_feature_names_out()`\n",
        "    4. Create a new dataframe: `zdf = pd.DataFrame(data=Z, columns = names)`\n",
        "    5. Possibly concatenate this new dataframe with other data\n",
        "- Use this power wisely"
      ]
    },
    {
      "cell_type": "code",
      "execution_count": null,
      "id": "c3aadfe6-31c8-4c17-8a3b-757ea0618e52",
      "metadata": {
        "id": "c3aadfe6-31c8-4c17-8a3b-757ea0618e52"
      },
      "outputs": [],
      "source": [
        "import numpy as np\n",
        "import pandas as pd\n",
        "from sklearn.preprocessing import PolynomialFeatures\n",
        "\n",
        "# Example dataframe:\n",
        "df = pd.DataFrame({'apples':np.array([1,3,5]),'joules':np.array([3,-2,1]), 'stocks':np.array([-2,1,4])})\n",
        "X = df"
      ]
    },
    {
      "cell_type": "code",
      "execution_count": null,
      "id": "96b09722-e612-4cce-993e-e02d8dce02c2",
      "metadata": {
        "id": "96b09722-e612-4cce-993e-e02d8dce02c2",
        "outputId": "d72f8cfa-35dc-4b0b-9609-bf9d149b5cc0"
      },
      "outputs": [
        {
          "data": {
            "text/html": [
              "<div>\n",
              "<style scoped>\n",
              "    .dataframe tbody tr th:only-of-type {\n",
              "        vertical-align: middle;\n",
              "    }\n",
              "\n",
              "    .dataframe tbody tr th {\n",
              "        vertical-align: top;\n",
              "    }\n",
              "\n",
              "    .dataframe thead th {\n",
              "        text-align: right;\n",
              "    }\n",
              "</style>\n",
              "<table border=\"1\" class=\"dataframe\">\n",
              "  <thead>\n",
              "    <tr style=\"text-align: right;\">\n",
              "      <th></th>\n",
              "      <th>apples</th>\n",
              "      <th>joules</th>\n",
              "      <th>stocks</th>\n",
              "      <th>apples^2</th>\n",
              "      <th>apples joules</th>\n",
              "      <th>apples stocks</th>\n",
              "      <th>joules^2</th>\n",
              "      <th>joules stocks</th>\n",
              "      <th>stocks^2</th>\n",
              "    </tr>\n",
              "  </thead>\n",
              "  <tbody>\n",
              "    <tr>\n",
              "      <th>0</th>\n",
              "      <td>1.0</td>\n",
              "      <td>3.0</td>\n",
              "      <td>-2.0</td>\n",
              "      <td>1.0</td>\n",
              "      <td>3.0</td>\n",
              "      <td>-2.0</td>\n",
              "      <td>9.0</td>\n",
              "      <td>-6.0</td>\n",
              "      <td>4.0</td>\n",
              "    </tr>\n",
              "    <tr>\n",
              "      <th>1</th>\n",
              "      <td>3.0</td>\n",
              "      <td>-2.0</td>\n",
              "      <td>1.0</td>\n",
              "      <td>9.0</td>\n",
              "      <td>-6.0</td>\n",
              "      <td>3.0</td>\n",
              "      <td>4.0</td>\n",
              "      <td>-2.0</td>\n",
              "      <td>1.0</td>\n",
              "    </tr>\n",
              "    <tr>\n",
              "      <th>2</th>\n",
              "      <td>5.0</td>\n",
              "      <td>1.0</td>\n",
              "      <td>4.0</td>\n",
              "      <td>25.0</td>\n",
              "      <td>5.0</td>\n",
              "      <td>20.0</td>\n",
              "      <td>1.0</td>\n",
              "      <td>4.0</td>\n",
              "      <td>16.0</td>\n",
              "    </tr>\n",
              "  </tbody>\n",
              "</table>\n",
              "</div>"
            ],
            "text/plain": [
              "   apples  joules  stocks  apples^2  apples joules  apples stocks  joules^2  \\\n",
              "0     1.0     3.0    -2.0       1.0            3.0           -2.0       9.0   \n",
              "1     3.0    -2.0     1.0       9.0           -6.0            3.0       4.0   \n",
              "2     5.0     1.0     4.0      25.0            5.0           20.0       1.0   \n",
              "\n",
              "   joules stocks  stocks^2  \n",
              "0           -6.0       4.0  \n",
              "1           -2.0       1.0  \n",
              "2            4.0      16.0  "
            ]
          },
          "execution_count": 109,
          "metadata": {},
          "output_type": "execute_result"
        }
      ],
      "source": [
        "expander = PolynomialFeatures(degree=2,include_bias=False) # Create the expander\n",
        "Z = expander.fit_transform(X) # Pass the df into the expander to get powers/interactions of x and y\n",
        "names = expander.get_feature_names_out() # Get the names of these variables\n",
        "zdf = pd.DataFrame(data=Z, columns = names) # Create a new, expanded dataframe\n",
        "zdf.head()"
      ]
    },
    {
      "cell_type": "code",
      "execution_count": null,
      "id": "1a056ed4-2363-4bd0-8e8d-731a0a8c215a",
      "metadata": {
        "id": "1a056ed4-2363-4bd0-8e8d-731a0a8c215a",
        "outputId": "b0d60b30-0702-4f28-b84a-05ba264083e4"
      },
      "outputs": [
        {
          "data": {
            "text/html": [
              "<div>\n",
              "<style scoped>\n",
              "    .dataframe tbody tr th:only-of-type {\n",
              "        vertical-align: middle;\n",
              "    }\n",
              "\n",
              "    .dataframe tbody tr th {\n",
              "        vertical-align: top;\n",
              "    }\n",
              "\n",
              "    .dataframe thead th {\n",
              "        text-align: right;\n",
              "    }\n",
              "</style>\n",
              "<table border=\"1\" class=\"dataframe\">\n",
              "  <thead>\n",
              "    <tr style=\"text-align: right;\">\n",
              "      <th></th>\n",
              "      <th>apples</th>\n",
              "      <th>joules</th>\n",
              "      <th>stocks</th>\n",
              "      <th>apples^2</th>\n",
              "      <th>apples joules</th>\n",
              "      <th>apples stocks</th>\n",
              "      <th>joules^2</th>\n",
              "      <th>joules stocks</th>\n",
              "      <th>stocks^2</th>\n",
              "      <th>apples^3</th>\n",
              "      <th>apples^2 joules</th>\n",
              "      <th>apples^2 stocks</th>\n",
              "      <th>apples joules^2</th>\n",
              "      <th>apples joules stocks</th>\n",
              "      <th>apples stocks^2</th>\n",
              "      <th>joules^3</th>\n",
              "      <th>joules^2 stocks</th>\n",
              "      <th>joules stocks^2</th>\n",
              "      <th>stocks^3</th>\n",
              "    </tr>\n",
              "  </thead>\n",
              "  <tbody>\n",
              "    <tr>\n",
              "      <th>0</th>\n",
              "      <td>1.0</td>\n",
              "      <td>3.0</td>\n",
              "      <td>-2.0</td>\n",
              "      <td>1.0</td>\n",
              "      <td>3.0</td>\n",
              "      <td>-2.0</td>\n",
              "      <td>9.0</td>\n",
              "      <td>-6.0</td>\n",
              "      <td>4.0</td>\n",
              "      <td>1.0</td>\n",
              "      <td>3.0</td>\n",
              "      <td>-2.0</td>\n",
              "      <td>9.0</td>\n",
              "      <td>-6.0</td>\n",
              "      <td>4.0</td>\n",
              "      <td>27.0</td>\n",
              "      <td>-18.0</td>\n",
              "      <td>12.0</td>\n",
              "      <td>-8.0</td>\n",
              "    </tr>\n",
              "    <tr>\n",
              "      <th>1</th>\n",
              "      <td>3.0</td>\n",
              "      <td>-2.0</td>\n",
              "      <td>1.0</td>\n",
              "      <td>9.0</td>\n",
              "      <td>-6.0</td>\n",
              "      <td>3.0</td>\n",
              "      <td>4.0</td>\n",
              "      <td>-2.0</td>\n",
              "      <td>1.0</td>\n",
              "      <td>27.0</td>\n",
              "      <td>-18.0</td>\n",
              "      <td>9.0</td>\n",
              "      <td>12.0</td>\n",
              "      <td>-6.0</td>\n",
              "      <td>3.0</td>\n",
              "      <td>-8.0</td>\n",
              "      <td>4.0</td>\n",
              "      <td>-2.0</td>\n",
              "      <td>1.0</td>\n",
              "    </tr>\n",
              "    <tr>\n",
              "      <th>2</th>\n",
              "      <td>5.0</td>\n",
              "      <td>1.0</td>\n",
              "      <td>4.0</td>\n",
              "      <td>25.0</td>\n",
              "      <td>5.0</td>\n",
              "      <td>20.0</td>\n",
              "      <td>1.0</td>\n",
              "      <td>4.0</td>\n",
              "      <td>16.0</td>\n",
              "      <td>125.0</td>\n",
              "      <td>25.0</td>\n",
              "      <td>100.0</td>\n",
              "      <td>5.0</td>\n",
              "      <td>20.0</td>\n",
              "      <td>80.0</td>\n",
              "      <td>1.0</td>\n",
              "      <td>4.0</td>\n",
              "      <td>16.0</td>\n",
              "      <td>64.0</td>\n",
              "    </tr>\n",
              "  </tbody>\n",
              "</table>\n",
              "</div>"
            ],
            "text/plain": [
              "   apples  joules  stocks  apples^2  apples joules  apples stocks  joules^2  \\\n",
              "0     1.0     3.0    -2.0       1.0            3.0           -2.0       9.0   \n",
              "1     3.0    -2.0     1.0       9.0           -6.0            3.0       4.0   \n",
              "2     5.0     1.0     4.0      25.0            5.0           20.0       1.0   \n",
              "\n",
              "   joules stocks  stocks^2  apples^3  apples^2 joules  apples^2 stocks  \\\n",
              "0           -6.0       4.0       1.0              3.0             -2.0   \n",
              "1           -2.0       1.0      27.0            -18.0              9.0   \n",
              "2            4.0      16.0     125.0             25.0            100.0   \n",
              "\n",
              "   apples joules^2  apples joules stocks  apples stocks^2  joules^3  \\\n",
              "0              9.0                  -6.0              4.0      27.0   \n",
              "1             12.0                  -6.0              3.0      -8.0   \n",
              "2              5.0                  20.0             80.0       1.0   \n",
              "\n",
              "   joules^2 stocks  joules stocks^2  stocks^3  \n",
              "0            -18.0             12.0      -8.0  \n",
              "1              4.0             -2.0       1.0  \n",
              "2              4.0             16.0      64.0  "
            ]
          },
          "execution_count": 110,
          "metadata": {},
          "output_type": "execute_result"
        }
      ],
      "source": [
        "## Compute all polynomials up to degree 3:\n",
        "expander = PolynomialFeatures(degree=3,include_bias=False) # Create the expander\n",
        "Z = expander.fit_transform(X) # Pass the df into the expander to get powers/interactions of x and y\n",
        "names = expander.get_feature_names_out() # Get the names of these variables\n",
        "zdf = pd.DataFrame(data=Z, columns = names) # Create a new, expanded dataframe\n",
        "zdf.head()"
      ]
    },
    {
      "cell_type": "code",
      "execution_count": null,
      "id": "c34c0f5d-0176-4565-800c-969c83a2ea4b",
      "metadata": {
        "id": "c34c0f5d-0176-4565-800c-969c83a2ea4b",
        "outputId": "1dbfca9f-b1d2-453a-d49b-49a94a8a19ff"
      },
      "outputs": [
        {
          "data": {
            "text/html": [
              "<div>\n",
              "<style scoped>\n",
              "    .dataframe tbody tr th:only-of-type {\n",
              "        vertical-align: middle;\n",
              "    }\n",
              "\n",
              "    .dataframe tbody tr th {\n",
              "        vertical-align: top;\n",
              "    }\n",
              "\n",
              "    .dataframe thead th {\n",
              "        text-align: right;\n",
              "    }\n",
              "</style>\n",
              "<table border=\"1\" class=\"dataframe\">\n",
              "  <thead>\n",
              "    <tr style=\"text-align: right;\">\n",
              "      <th></th>\n",
              "      <th>apples</th>\n",
              "      <th>joules</th>\n",
              "      <th>stocks</th>\n",
              "      <th>apples joules</th>\n",
              "      <th>apples stocks</th>\n",
              "      <th>joules stocks</th>\n",
              "      <th>apples joules stocks</th>\n",
              "    </tr>\n",
              "  </thead>\n",
              "  <tbody>\n",
              "    <tr>\n",
              "      <th>0</th>\n",
              "      <td>1.0</td>\n",
              "      <td>3.0</td>\n",
              "      <td>-2.0</td>\n",
              "      <td>3.0</td>\n",
              "      <td>-2.0</td>\n",
              "      <td>-6.0</td>\n",
              "      <td>-6.0</td>\n",
              "    </tr>\n",
              "    <tr>\n",
              "      <th>1</th>\n",
              "      <td>3.0</td>\n",
              "      <td>-2.0</td>\n",
              "      <td>1.0</td>\n",
              "      <td>-6.0</td>\n",
              "      <td>3.0</td>\n",
              "      <td>-2.0</td>\n",
              "      <td>-6.0</td>\n",
              "    </tr>\n",
              "    <tr>\n",
              "      <th>2</th>\n",
              "      <td>5.0</td>\n",
              "      <td>1.0</td>\n",
              "      <td>4.0</td>\n",
              "      <td>5.0</td>\n",
              "      <td>20.0</td>\n",
              "      <td>4.0</td>\n",
              "      <td>20.0</td>\n",
              "    </tr>\n",
              "  </tbody>\n",
              "</table>\n",
              "</div>"
            ],
            "text/plain": [
              "   apples  joules  stocks  apples joules  apples stocks  joules stocks  \\\n",
              "0     1.0     3.0    -2.0            3.0           -2.0           -6.0   \n",
              "1     3.0    -2.0     1.0           -6.0            3.0           -2.0   \n",
              "2     5.0     1.0     4.0            5.0           20.0            4.0   \n",
              "\n",
              "   apples joules stocks  \n",
              "0                  -6.0  \n",
              "1                  -6.0  \n",
              "2                  20.0  "
            ]
          },
          "execution_count": 111,
          "metadata": {},
          "output_type": "execute_result"
        }
      ],
      "source": [
        "## Only compute the interactions up to degree 3:\n",
        "expander = PolynomialFeatures(degree=3,interaction_only=True,include_bias=False) # Create the expander\n",
        "Z = expander.fit_transform(X) # Pass the df into the expander to get powers/interactions of x and y\n",
        "names = expander.get_feature_names_out() # Get the names of these variables\n",
        "zdf = pd.DataFrame(data=Z, columns = names) # Create a new, expanded dataframe\n",
        "zdf.head()"
      ]
    },
    {
      "cell_type": "markdown",
      "id": "37e9ac69-9b6f-4371-abaa-552c73c824e4",
      "metadata": {
        "id": "37e9ac69-9b6f-4371-abaa-552c73c824e4"
      },
      "source": [
        "## Quick One Hot Encoding\n",
        "- We often have categorical data that need to be converted to numerical values for `sklearn` to work\n",
        "- You can use Pandas to create dummy variables out of the categorical variable using `pd.get_dummies(varName)`\n",
        "- You can use sklearn's `LabelBinarizer` to create a matrix of one-hot encoded variables\n",
        "- These are the same thing"
      ]
    },
    {
      "cell_type": "code",
      "execution_count": null,
      "id": "d49afc0d-bd86-4fdd-b725-2e0154a72d87",
      "metadata": {
        "id": "d49afc0d-bd86-4fdd-b725-2e0154a72d87",
        "outputId": "7e5dfcf3-13e2-49e2-b27b-0bc639dbe26d"
      },
      "outputs": [
        {
          "data": {
            "text/html": [
              "<div>\n",
              "<style scoped>\n",
              "    .dataframe tbody tr th:only-of-type {\n",
              "        vertical-align: middle;\n",
              "    }\n",
              "\n",
              "    .dataframe tbody tr th {\n",
              "        vertical-align: top;\n",
              "    }\n",
              "\n",
              "    .dataframe thead th {\n",
              "        text-align: right;\n",
              "    }\n",
              "</style>\n",
              "<table border=\"1\" class=\"dataframe\">\n",
              "  <thead>\n",
              "    <tr style=\"text-align: right;\">\n",
              "      <th></th>\n",
              "      <th>apples</th>\n",
              "      <th>joules</th>\n",
              "      <th>stocks</th>\n",
              "      <th>bird</th>\n",
              "    </tr>\n",
              "  </thead>\n",
              "  <tbody>\n",
              "    <tr>\n",
              "      <th>0</th>\n",
              "      <td>1</td>\n",
              "      <td>3</td>\n",
              "      <td>-2</td>\n",
              "      <td>Cardinal</td>\n",
              "    </tr>\n",
              "    <tr>\n",
              "      <th>1</th>\n",
              "      <td>3</td>\n",
              "      <td>-2</td>\n",
              "      <td>1</td>\n",
              "      <td>Oriole</td>\n",
              "    </tr>\n",
              "    <tr>\n",
              "      <th>2</th>\n",
              "      <td>5</td>\n",
              "      <td>1</td>\n",
              "      <td>4</td>\n",
              "      <td>Robin</td>\n",
              "    </tr>\n",
              "    <tr>\n",
              "      <th>3</th>\n",
              "      <td>7</td>\n",
              "      <td>2</td>\n",
              "      <td>6</td>\n",
              "      <td>Oriole</td>\n",
              "    </tr>\n",
              "  </tbody>\n",
              "</table>\n",
              "</div>"
            ],
            "text/plain": [
              "   apples  joules  stocks      bird\n",
              "0       1       3      -2  Cardinal\n",
              "1       3      -2       1    Oriole\n",
              "2       5       1       4     Robin\n",
              "3       7       2       6    Oriole"
            ]
          },
          "execution_count": 3,
          "metadata": {},
          "output_type": "execute_result"
        }
      ],
      "source": [
        "df = pd.DataFrame({'apples':np.array([1,3,5,7]),\n",
        "                   'joules':np.array([3,-2,1,2]),\n",
        "                   'stocks':np.array([-2,1,4,6]),\n",
        "                   'bird':['Cardinal','Oriole','Robin','Oriole']})\n",
        "X = df\n",
        "X.head()"
      ]
    },
    {
      "cell_type": "code",
      "execution_count": null,
      "id": "ef7e909b-dd18-480f-96ea-33696505041c",
      "metadata": {
        "id": "ef7e909b-dd18-480f-96ea-33696505041c",
        "outputId": "4896d69e-01bb-4707-c5b3-5e5f4025bcb4"
      },
      "outputs": [
        {
          "data": {
            "text/html": [
              "<div>\n",
              "<style scoped>\n",
              "    .dataframe tbody tr th:only-of-type {\n",
              "        vertical-align: middle;\n",
              "    }\n",
              "\n",
              "    .dataframe tbody tr th {\n",
              "        vertical-align: top;\n",
              "    }\n",
              "\n",
              "    .dataframe thead th {\n",
              "        text-align: right;\n",
              "    }\n",
              "</style>\n",
              "<table border=\"1\" class=\"dataframe\">\n",
              "  <thead>\n",
              "    <tr style=\"text-align: right;\">\n",
              "      <th></th>\n",
              "      <th>Cardinal</th>\n",
              "      <th>Oriole</th>\n",
              "      <th>Robin</th>\n",
              "    </tr>\n",
              "  </thead>\n",
              "  <tbody>\n",
              "    <tr>\n",
              "      <th>0</th>\n",
              "      <td>True</td>\n",
              "      <td>False</td>\n",
              "      <td>False</td>\n",
              "    </tr>\n",
              "    <tr>\n",
              "      <th>1</th>\n",
              "      <td>False</td>\n",
              "      <td>True</td>\n",
              "      <td>False</td>\n",
              "    </tr>\n",
              "    <tr>\n",
              "      <th>2</th>\n",
              "      <td>False</td>\n",
              "      <td>False</td>\n",
              "      <td>True</td>\n",
              "    </tr>\n",
              "    <tr>\n",
              "      <th>3</th>\n",
              "      <td>False</td>\n",
              "      <td>True</td>\n",
              "      <td>False</td>\n",
              "    </tr>\n",
              "  </tbody>\n",
              "</table>\n",
              "</div>"
            ],
            "text/plain": [
              "   Cardinal  Oriole  Robin\n",
              "0      True   False  False\n",
              "1     False    True  False\n",
              "2     False   False   True\n",
              "3     False    True  False"
            ]
          },
          "execution_count": 4,
          "metadata": {},
          "output_type": "execute_result"
        }
      ],
      "source": [
        "# With Pandas:\n",
        "ddf = pd.get_dummies(X['bird'])\n",
        "ddf.head()"
      ]
    },
    {
      "cell_type": "code",
      "execution_count": null,
      "id": "bbdc22b7-ff98-497a-95fe-4386b54f8e08",
      "metadata": {
        "id": "bbdc22b7-ff98-497a-95fe-4386b54f8e08",
        "outputId": "7a748fc9-df9a-4313-e49d-1f0ae31bd36c"
      },
      "outputs": [
        {
          "data": {
            "text/html": [
              "<div>\n",
              "<style scoped>\n",
              "    .dataframe tbody tr th:only-of-type {\n",
              "        vertical-align: middle;\n",
              "    }\n",
              "\n",
              "    .dataframe tbody tr th {\n",
              "        vertical-align: top;\n",
              "    }\n",
              "\n",
              "    .dataframe thead th {\n",
              "        text-align: right;\n",
              "    }\n",
              "</style>\n",
              "<table border=\"1\" class=\"dataframe\">\n",
              "  <thead>\n",
              "    <tr style=\"text-align: right;\">\n",
              "      <th></th>\n",
              "      <th>Cardinal</th>\n",
              "      <th>Oriole</th>\n",
              "      <th>Robin</th>\n",
              "    </tr>\n",
              "  </thead>\n",
              "  <tbody>\n",
              "    <tr>\n",
              "      <th>0</th>\n",
              "      <td>1</td>\n",
              "      <td>0</td>\n",
              "      <td>0</td>\n",
              "    </tr>\n",
              "    <tr>\n",
              "      <th>1</th>\n",
              "      <td>0</td>\n",
              "      <td>1</td>\n",
              "      <td>0</td>\n",
              "    </tr>\n",
              "    <tr>\n",
              "      <th>2</th>\n",
              "      <td>0</td>\n",
              "      <td>0</td>\n",
              "      <td>1</td>\n",
              "    </tr>\n",
              "    <tr>\n",
              "      <th>3</th>\n",
              "      <td>0</td>\n",
              "      <td>1</td>\n",
              "      <td>0</td>\n",
              "    </tr>\n",
              "  </tbody>\n",
              "</table>\n",
              "</div>"
            ],
            "text/plain": [
              "   Cardinal  Oriole  Robin\n",
              "0         1       0      0\n",
              "1         0       1      0\n",
              "2         0       0      1\n",
              "3         0       1      0"
            ]
          },
          "execution_count": 5,
          "metadata": {},
          "output_type": "execute_result"
        }
      ],
      "source": [
        "# With Pandas, if you don't like booleans:\n",
        "ddf = pd.get_dummies(X['bird'],dtype='int')\n",
        "ddf.head()"
      ]
    },
    {
      "cell_type": "code",
      "execution_count": null,
      "id": "023f8930-6e3a-461b-9fab-4b361835aadd",
      "metadata": {
        "id": "023f8930-6e3a-461b-9fab-4b361835aadd",
        "outputId": "e5fd6aed-dfce-4daf-b0ba-259b11159901"
      },
      "outputs": [
        {
          "name": "stdout",
          "output_type": "stream",
          "text": [
            "[[1 0 0]\n",
            " [0 1 0]\n",
            " [0 0 1]\n",
            " [0 1 0]]\n",
            "['Cardinal' 'Oriole' 'Robin']\n"
          ]
        },
        {
          "data": {
            "text/html": [
              "<div>\n",
              "<style scoped>\n",
              "    .dataframe tbody tr th:only-of-type {\n",
              "        vertical-align: middle;\n",
              "    }\n",
              "\n",
              "    .dataframe tbody tr th {\n",
              "        vertical-align: top;\n",
              "    }\n",
              "\n",
              "    .dataframe thead th {\n",
              "        text-align: right;\n",
              "    }\n",
              "</style>\n",
              "<table border=\"1\" class=\"dataframe\">\n",
              "  <thead>\n",
              "    <tr style=\"text-align: right;\">\n",
              "      <th></th>\n",
              "      <th>Cardinal</th>\n",
              "      <th>Oriole</th>\n",
              "      <th>Robin</th>\n",
              "    </tr>\n",
              "  </thead>\n",
              "  <tbody>\n",
              "    <tr>\n",
              "      <th>0</th>\n",
              "      <td>1</td>\n",
              "      <td>0</td>\n",
              "      <td>0</td>\n",
              "    </tr>\n",
              "    <tr>\n",
              "      <th>1</th>\n",
              "      <td>0</td>\n",
              "      <td>1</td>\n",
              "      <td>0</td>\n",
              "    </tr>\n",
              "    <tr>\n",
              "      <th>2</th>\n",
              "      <td>0</td>\n",
              "      <td>0</td>\n",
              "      <td>1</td>\n",
              "    </tr>\n",
              "    <tr>\n",
              "      <th>3</th>\n",
              "      <td>0</td>\n",
              "      <td>1</td>\n",
              "      <td>0</td>\n",
              "    </tr>\n",
              "  </tbody>\n",
              "</table>\n",
              "</div>"
            ],
            "text/plain": [
              "   Cardinal  Oriole  Robin\n",
              "0         1       0      0\n",
              "1         0       1      0\n",
              "2         0       0      1\n",
              "3         0       1      0"
            ]
          },
          "execution_count": 124,
          "metadata": {},
          "output_type": "execute_result"
        }
      ],
      "source": [
        "# With sklearn:\n",
        "from sklearn.preprocessing import LabelBinarizer\n",
        "one_hot_encoder = LabelBinarizer()\n",
        "\n",
        "oh = one_hot_encoder.fit_transform(X['bird']) # One-hot encode the 'bird' variable\n",
        "print(oh)\n",
        "names = one_hot.classes_ # Get names of the classes\n",
        "print(names)\n",
        "\n",
        "zdf = pd.DataFrame( data = oh, columns = names) # Create a new df for the encoded variables\n",
        "zdf.head()"
      ]
    },
    {
      "cell_type": "markdown",
      "id": "5cca53e5-0844-43ee-9aae-f0db8474611d",
      "metadata": {
        "id": "5cca53e5-0844-43ee-9aae-f0db8474611d"
      },
      "source": [
        "## Quickly Concatenating Dataframes\n",
        "- OK, you made these nice shiny features, how do you get them back into a single dataframe?\n",
        "- The `df = pd.concat([df1,df2,...,dfk],axis=1)` makes a new dataframe out of the columns of the original dataframes `df1`, `df2`, ..., `dfk`\n",
        "- So you can build all the transformed data frames you want, then collapse them all back into one dataframe for processing\n",
        "- Since you are going to do this, you might want to think carefully about how you're building the dataframe chunks, and use `.iloc` or `.loc` to be selective about what going into each one"
      ]
    },
    {
      "cell_type": "code",
      "execution_count": null,
      "id": "99d96a7e-f5f1-47b2-9228-214b25f5d0a1",
      "metadata": {
        "id": "99d96a7e-f5f1-47b2-9228-214b25f5d0a1",
        "outputId": "6afc2f0f-e470-41bc-c483-9c130bde227c"
      },
      "outputs": [
        {
          "data": {
            "text/html": [
              "<div>\n",
              "<style scoped>\n",
              "    .dataframe tbody tr th:only-of-type {\n",
              "        vertical-align: middle;\n",
              "    }\n",
              "\n",
              "    .dataframe tbody tr th {\n",
              "        vertical-align: top;\n",
              "    }\n",
              "\n",
              "    .dataframe thead th {\n",
              "        text-align: right;\n",
              "    }\n",
              "</style>\n",
              "<table border=\"1\" class=\"dataframe\">\n",
              "  <thead>\n",
              "    <tr style=\"text-align: right;\">\n",
              "      <th></th>\n",
              "      <th>joules</th>\n",
              "      <th>stocks</th>\n",
              "      <th>joules^2</th>\n",
              "      <th>joules stocks</th>\n",
              "      <th>stocks^2</th>\n",
              "      <th>Cardinal</th>\n",
              "      <th>Oriole</th>\n",
              "      <th>Robin</th>\n",
              "    </tr>\n",
              "  </thead>\n",
              "  <tbody>\n",
              "    <tr>\n",
              "      <th>0</th>\n",
              "      <td>3.0</td>\n",
              "      <td>-2.0</td>\n",
              "      <td>9.0</td>\n",
              "      <td>-6.0</td>\n",
              "      <td>4.0</td>\n",
              "      <td>1.0</td>\n",
              "      <td>0.0</td>\n",
              "      <td>0.0</td>\n",
              "    </tr>\n",
              "    <tr>\n",
              "      <th>1</th>\n",
              "      <td>-2.0</td>\n",
              "      <td>1.0</td>\n",
              "      <td>4.0</td>\n",
              "      <td>-2.0</td>\n",
              "      <td>1.0</td>\n",
              "      <td>0.0</td>\n",
              "      <td>1.0</td>\n",
              "      <td>0.0</td>\n",
              "    </tr>\n",
              "    <tr>\n",
              "      <th>2</th>\n",
              "      <td>1.0</td>\n",
              "      <td>4.0</td>\n",
              "      <td>1.0</td>\n",
              "      <td>4.0</td>\n",
              "      <td>16.0</td>\n",
              "      <td>0.0</td>\n",
              "      <td>0.0</td>\n",
              "      <td>1.0</td>\n",
              "    </tr>\n",
              "    <tr>\n",
              "      <th>3</th>\n",
              "      <td>2.0</td>\n",
              "      <td>6.0</td>\n",
              "      <td>4.0</td>\n",
              "      <td>12.0</td>\n",
              "      <td>36.0</td>\n",
              "      <td>0.0</td>\n",
              "      <td>1.0</td>\n",
              "      <td>0.0</td>\n",
              "    </tr>\n",
              "  </tbody>\n",
              "</table>\n",
              "</div>"
            ],
            "text/plain": [
              "   joules  stocks  joules^2  joules stocks  stocks^2  Cardinal  Oriole  Robin\n",
              "0     3.0    -2.0       9.0           -6.0       4.0       1.0     0.0    0.0\n",
              "1    -2.0     1.0       4.0           -2.0       1.0       0.0     1.0    0.0\n",
              "2     1.0     4.0       1.0            4.0      16.0       0.0     0.0    1.0\n",
              "3     2.0     6.0       4.0           12.0      36.0       0.0     1.0    0.0"
            ]
          },
          "execution_count": 44,
          "metadata": {},
          "output_type": "execute_result"
        }
      ],
      "source": [
        "## Polynomial features:\n",
        "expander = PolynomialFeatures(degree=2,include_bias=False) # Create the expander\n",
        "Z = expander.fit_transform(df.iloc[:,1:3]) # Pass the df into the expander to get powers/interactions of x and y\n",
        "names = expander.get_feature_names_out() # Get the names of these variables\n",
        "X1 = pd.DataFrame(data=Z, columns = names) # Create a new, expanded dataframe\n",
        "\n",
        "## Dummy variables:\n",
        "X2 = pd.get_dummies(df['bird'], dtype=float) # Create dummies\n",
        "\n",
        "## Concatenate:\n",
        "X = pd.concat([X1,X2],axis=1) # Concatenate engineered features\n",
        "X.head()"
      ]
    },
    {
      "cell_type": "markdown",
      "id": "3bf3451c-3c89-4144-b455-4dd32289b00a",
      "metadata": {
        "id": "3bf3451c-3c89-4144-b455-4dd32289b00a"
      },
      "source": [
        "## Quickly Handling Outliers\n",
        "- We have the sense that outliers are bad, particularly for global smoothers like linear regression\n",
        "- We want to (1) detect outliers, (2) create an outlier dummy, and (3) **windsorize** them: Replace values outside the whiskers with the min/max values of the whiskers (when you remove outliers altogether, it is called **trimming**)\n",
        "- This is, again, a quick way of processing outliers without losing data"
      ]
    },
    {
      "cell_type": "code",
      "execution_count": null,
      "id": "06b22ef0-b291-45cd-96a4-4504566ff76e",
      "metadata": {
        "id": "06b22ef0-b291-45cd-96a4-4504566ff76e",
        "outputId": "36df2cc2-0f82-4ee1-eb8a-ee9bae0f9ea3"
      },
      "outputs": [
        {
          "data": {
            "text/plain": [
              "<Axes: >"
            ]
          },
          "execution_count": 41,
          "metadata": {},
          "output_type": "execute_result"
        },
        {
          "data": {
            "image/png": "[encoded data removed]",
            "text/plain": [
              "<Figure size 640x480 with 1 Axes>"
            ]
          },
          "metadata": {},
          "output_type": "display_data"
        }
      ],
      "source": [
        "import seaborn as sns\n",
        "\n",
        "## Generate random data with outliers\n",
        "np.random.seed(1000)\n",
        "N = 200\n",
        "switch = np.random.uniform(0,1,N)\n",
        "x = (switch<.05)*np.random.normal(20,10,N)+(switch >= .05)*(switch<.95)*np.random.normal(50,10,N)+(switch>=.95)*np.random.normal(100,5,N)\n",
        "sns.boxplot(x)"
      ]
    },
    {
      "cell_type": "code",
      "execution_count": null,
      "id": "57235b5a-98a7-464d-b100-9f80ccebbfde",
      "metadata": {
        "id": "57235b5a-98a7-464d-b100-9f80ccebbfde",
        "outputId": "ee38ccb5-5c2a-4b54-a93c-1866f911260b"
      },
      "outputs": [
        {
          "data": {
            "text/plain": [
              "<Axes: >"
            ]
          },
          "execution_count": 43,
          "metadata": {},
          "output_type": "execute_result"
        },
        {
          "data": {
            "image/png": "[encoded data removed]",
            "text/plain": [
              "<Figure size 640x480 with 1 Axes>"
            ]
          },
          "metadata": {},
          "output_type": "display_data"
        }
      ],
      "source": [
        "## Function to compute whiskers:\n",
        "def windsorize(x):\n",
        "    # Compute IQR and 1st,3rd quantiles\n",
        "    pct1, pct3 = np.percentile(x,[25,75])\n",
        "    iqr = pct3 - pct1\n",
        "    # Compute whiskers:\n",
        "    lower_whisker = pct1 - iqr*1.5\n",
        "    upper_whisker = pct3 + iqr*1.5\n",
        "    # Compute outlier dummy:\n",
        "    x_outlier = (x < lower_whisker) + (x>upper_whisker)\n",
        "    # Windsorize x:\n",
        "    x_windsor = x\n",
        "    x_windsor[ x < lower_whisker ] = lower_whisker\n",
        "    x_windsor[ x > upper_whisker ] = upper_whisker\n",
        "    return({'x_windsor':x_windsor,\n",
        "            'x_outlier':x_outlier,\n",
        "            'lower_whisker':lower_whisker,\n",
        "            'upper_whisker':upper_whisker})\n",
        "\n",
        "sns.boxplot( windsorize(x)['x_windsor'])"
      ]
    },
    {
      "cell_type": "markdown",
      "id": "c87ee9d6-9740-4026-9033-16f07b04c5f8",
      "metadata": {
        "id": "c87ee9d6-9740-4026-9033-16f07b04c5f8"
      },
      "source": [
        "## Model Evaluation: What is a Model?\n",
        "- A **model** is a function that maps cases $\\hat{x}$ into predictions $\\hat{y}$ using a rule $m(\\hat{x},b,k) = \\hat{y}$ where $b$ are **parameters** (e.g. weights in linear regression, splits in a decision tree) and $k$ are **hyperparameters** (number of neighbors in $k$NN, which variables to include in linear regression, how complex the tree is allowed to be)\n",
        "- What is a hyperparameter? A hyperparameter is any feature of a model that can trivially improve fit on training data, independently of the data (e.g. $k=1$ in kNN, $k=N$ in kMC, adding more regressors in linear models, adding more splits and variables to decision trees)\n",
        "- The parameters $b$ are selected using a training set, and hyperparameters $k$ are selected by comparisons of the fitted models on a testing set (e.g. the scree plot, the CART confusion matrix)\n",
        "- Let's talk about regression and classification separately"
      ]
    },
    {
      "cell_type": "markdown",
      "id": "65ac818e-3c2e-4ab3-bf3e-608c36402723",
      "metadata": {
        "id": "65ac818e-3c2e-4ab3-bf3e-608c36402723"
      },
      "source": [
        "## Regression\n",
        "- The **predicted value** for values $\\hat{x}_i$ is the output of the model, using its parameters $b$ like regression weights and hyperparameters $k$ (e.g. the variables selected or the number of neighbors or the size of the tree):\n",
        "$$ \\hat{y}_i = m(\\hat{x}_i, b, k) $$\n",
        "We often make scatterplots of the predicted and actual values to evaluate whether the predictions and true values exhibit a strong association or not: A big cloud of points with no trend at all suggests we aren't doing a great job.\n",
        "- The **residual** or **error** for observation $i$ is the difference between the true outcome and the predicted value,\n",
        "$$\n",
        "e_i = y_i - \\hat{y}_i\n",
        "$$\n",
        "- This is the simplest way to evaluate how far off the model is from the truth, and we often make kernel density plots of the residuals to visualize the extent to which there are still clues left in the errors about whether we're epxloiting all the data as effectively as we can"
      ]
    },
    {
      "cell_type": "markdown",
      "id": "c4364eaf-c86a-4233-a1a9-3d607b5dcfc7",
      "metadata": {
        "id": "c4364eaf-c86a-4233-a1a9-3d607b5dcfc7"
      },
      "source": [
        "## Measures of Fit: SSE, MSE, and RMSE\n",
        "- In regression settings, we typically pick our model parameters to minimize the **Sum of Squared Error**:\n",
        "$$ \\text{SSE}(b,k) = \\sum_{i=1}^N (y_i - m(x_i,b,k))^2, $$\n",
        "or **Mean Squared Error**,\n",
        "$$ \\text{MSE}(b,k) = \\dfrac{1}{N}\\sum_{i=1}^N (y_i - m(x_i,b,k))^2, $$\n",
        "or **Root Mean Squared Error**,\n",
        "$$ \\text{RMSE}(b,k) = \\sqrt{\\dfrac{1}{N}\\sum_{i=1}^N (y_i - m(x_i,b,k))^2}. $$\n",
        "- These are all roughly the same thing, since if $(b_1,k_1)$ does better in terms of any of these metrics than $(b_2,k_2)$, then it does better for all of them\n",
        "- In practice, RMSE is a bit more interpretable, and SSE is a bit more computationally easy to work with\n",
        "- There are hundreds of these"
      ]
    },
    {
      "cell_type": "markdown",
      "id": "270717b6-23bc-4cf2-8a7a-de9439a627f7",
      "metadata": {
        "id": "270717b6-23bc-4cf2-8a7a-de9439a627f7"
      },
      "source": [
        "## Measures of Fit: $R^2$\n",
        "- The *Sum of Squared Error* (SSE) is\n",
        "$$\n",
        "\\text{SSE} = \\sum_{i=1}^N (y_i - \\hat{y}_i)^2\n",
        "$$\n",
        "and the *Total Sum of Squares* (TSS) is\n",
        "$$\n",
        "\\text{TSS} = \\sum_{i=1}^N (y_i - \\bar{y})^2, \\quad \\text{ where }\\bar{y} = \\dfrac{1}{N}\\sum_{i=1}^N y_i\n",
        "$$\n",
        "- The $R^2$ measure or *coefficient of determination* is\n",
        "$$\n",
        "R^2 = 1 - \\dfrac{SSE}{TSS}\n",
        "$$\n",
        "- This is the proportion of the variation in the data explained by the model that isn't captured by just predicting the sample average (the simplest predictor of all)"
      ]
    },
    {
      "cell_type": "markdown",
      "id": "2e1d2ad7-929e-4724-affe-c1b3a30530bf",
      "metadata": {
        "id": "2e1d2ad7-929e-4724-affe-c1b3a30530bf"
      },
      "source": [
        "## Measures of Fit\n",
        "- The mean is our simplest predictor of a numeric outcome: It doesn't use any features/covariates/controls, and just predicts the average outcome regardless of circumstance\n",
        "- If you prefer to think probabilistically, let *Mean Squared Error* (MSE) be\n",
        "$$\n",
        "\\text{MSE} = \\dfrac{1}{N} \\sum_{i=1}^N (y_i - \\hat{y}_i)^2\n",
        "$$\n",
        "and the *variance of $Y$* be\n",
        "$$\n",
        "\\mathbb{V}[Y] = \\dfrac{1}{N} \\sum_{i=1}^N (y_i - \\bar{y})^2,\n",
        "$$\n",
        "and then the $R^2$ measure can be written\n",
        "$$\n",
        "R^2 = \\dfrac{\\mathbb{V}[Y]-\\text{MSE}}{\\mathbb{V}[Y]},\n",
        "$$\n",
        "the proportion of the variance in $Y$ that can be explained by the model.\n",
        "- On the training set, this is between 0 and 1. On a testing set, it can be negative."
      ]
    },
    {
      "cell_type": "markdown",
      "id": "2c41f4e5-58fd-47cc-aecd-cbcf76406938",
      "metadata": {
        "id": "2c41f4e5-58fd-47cc-aecd-cbcf76406938"
      },
      "source": [
        "## Splitting the Sample: Training and Validation\n",
        "- If you fit a model and then evaluate its performance on the data you used, you are certain to overestimate the performance of the model\n",
        "- Models with hyper-parameters (e.g. $k$ in $k$NN) are typically *greedy* or *trivial*: They will do better with in-sample fit as the complexity of the hyper-parameters goes to extremes, but will do poorly predicting outcomes for new data (under-fitting, over-fitting)\n",
        "- This is a form of *confirmation bias*: Our models are formalizations of past outcomes, and we don't want them to be overly sensitive to the quirks of past data but instead be robust to those quirks and useful for estimating future outcomes"
      ]
    },
    {
      "cell_type": "markdown",
      "id": "0819d52a-17c0-4e0f-873e-1fb064c4c73e",
      "metadata": {
        "id": "0819d52a-17c0-4e0f-873e-1fb064c4c73e"
      },
      "source": [
        "## Diabetes Data\n",
        "- `'./data/diabetes-dataset.csv'`\n",
        "- 1000 patients with characteristics like Age, BloodPressure, BMI, Insulin levels, and past Pregnancies\n",
        "- Outcome is whether the patient has diabetes or not\n",
        "- The goal is to predict the likelihood someone has diabetes from other health characteristics"
      ]
    },
    {
      "cell_type": "code",
      "execution_count": null,
      "id": "9c2279cb-6219-422f-9b9f-4f124cb40a6f",
      "metadata": {
        "id": "9c2279cb-6219-422f-9b9f-4f124cb40a6f",
        "outputId": "94e26378-dfa9-426c-80c4-bcc3ff3c9851"
      },
      "outputs": [
        {
          "data": {
            "text/html": [
              "<div>\n",
              "<style scoped>\n",
              "    .dataframe tbody tr th:only-of-type {\n",
              "        vertical-align: middle;\n",
              "    }\n",
              "\n",
              "    .dataframe tbody tr th {\n",
              "        vertical-align: top;\n",
              "    }\n",
              "\n",
              "    .dataframe thead th {\n",
              "        text-align: right;\n",
              "    }\n",
              "</style>\n",
              "<table border=\"1\" class=\"dataframe\">\n",
              "  <thead>\n",
              "    <tr style=\"text-align: right;\">\n",
              "      <th></th>\n",
              "      <th>Pregnancies</th>\n",
              "      <th>Glucose</th>\n",
              "      <th>BloodPressure</th>\n",
              "      <th>SkinThickness</th>\n",
              "      <th>Insulin</th>\n",
              "      <th>BMI</th>\n",
              "      <th>DiabetesPedigreeFunction</th>\n",
              "      <th>Age</th>\n",
              "      <th>Outcome</th>\n",
              "    </tr>\n",
              "  </thead>\n",
              "  <tbody>\n",
              "    <tr>\n",
              "      <th>0</th>\n",
              "      <td>2</td>\n",
              "      <td>138</td>\n",
              "      <td>62</td>\n",
              "      <td>35</td>\n",
              "      <td>0</td>\n",
              "      <td>33.6</td>\n",
              "      <td>0.127</td>\n",
              "      <td>47</td>\n",
              "      <td>1</td>\n",
              "    </tr>\n",
              "    <tr>\n",
              "      <th>1</th>\n",
              "      <td>0</td>\n",
              "      <td>84</td>\n",
              "      <td>82</td>\n",
              "      <td>31</td>\n",
              "      <td>125</td>\n",
              "      <td>38.2</td>\n",
              "      <td>0.233</td>\n",
              "      <td>23</td>\n",
              "      <td>0</td>\n",
              "    </tr>\n",
              "    <tr>\n",
              "      <th>2</th>\n",
              "      <td>0</td>\n",
              "      <td>145</td>\n",
              "      <td>0</td>\n",
              "      <td>0</td>\n",
              "      <td>0</td>\n",
              "      <td>44.2</td>\n",
              "      <td>0.630</td>\n",
              "      <td>31</td>\n",
              "      <td>1</td>\n",
              "    </tr>\n",
              "    <tr>\n",
              "      <th>3</th>\n",
              "      <td>0</td>\n",
              "      <td>135</td>\n",
              "      <td>68</td>\n",
              "      <td>42</td>\n",
              "      <td>250</td>\n",
              "      <td>42.3</td>\n",
              "      <td>0.365</td>\n",
              "      <td>24</td>\n",
              "      <td>1</td>\n",
              "    </tr>\n",
              "    <tr>\n",
              "      <th>4</th>\n",
              "      <td>1</td>\n",
              "      <td>139</td>\n",
              "      <td>62</td>\n",
              "      <td>41</td>\n",
              "      <td>480</td>\n",
              "      <td>40.7</td>\n",
              "      <td>0.536</td>\n",
              "      <td>21</td>\n",
              "      <td>0</td>\n",
              "    </tr>\n",
              "  </tbody>\n",
              "</table>\n",
              "</div>"
            ],
            "text/plain": [
              "   Pregnancies  Glucose  BloodPressure  SkinThickness  Insulin   BMI  \\\n",
              "0            2      138             62             35        0  33.6   \n",
              "1            0       84             82             31      125  38.2   \n",
              "2            0      145              0              0        0  44.2   \n",
              "3            0      135             68             42      250  42.3   \n",
              "4            1      139             62             41      480  40.7   \n",
              "\n",
              "   DiabetesPedigreeFunction  Age  Outcome  \n",
              "0                     0.127   47        1  \n",
              "1                     0.233   23        0  \n",
              "2                     0.630   31        1  \n",
              "3                     0.365   24        1  \n",
              "4                     0.536   21        0  "
            ]
          },
          "execution_count": 159,
          "metadata": {},
          "output_type": "execute_result"
        }
      ],
      "source": [
        "import pandas as pd\n",
        "import matplotlib.pyplot as plt\n",
        "\n",
        "df = pd.read_csv('./data/diabetes-dataset.csv')\n",
        "df.head()"
      ]
    },
    {
      "cell_type": "code",
      "execution_count": null,
      "id": "15f82074-d572-4959-b256-01ad707f355c",
      "metadata": {
        "id": "15f82074-d572-4959-b256-01ad707f355c",
        "outputId": "50a9885f-69ce-4f0d-d2d9-8e4e62149f83"
      },
      "outputs": [
        {
          "name": "stdout",
          "output_type": "stream",
          "text": [
            "count    2000.000000\n",
            "mean        0.342000\n",
            "std         0.474498\n",
            "min         0.000000\n",
            "25%         0.000000\n",
            "50%         0.000000\n",
            "75%         1.000000\n",
            "max         1.000000\n",
            "Name: Outcome, dtype: float64\n"
          ]
        },
        {
          "data": {
            "text/html": [
              "<div>\n",
              "<style scoped>\n",
              "    .dataframe tbody tr th:only-of-type {\n",
              "        vertical-align: middle;\n",
              "    }\n",
              "\n",
              "    .dataframe tbody tr th {\n",
              "        vertical-align: top;\n",
              "    }\n",
              "\n",
              "    .dataframe thead th {\n",
              "        text-align: right;\n",
              "    }\n",
              "</style>\n",
              "<table border=\"1\" class=\"dataframe\">\n",
              "  <thead>\n",
              "    <tr style=\"text-align: right;\">\n",
              "      <th></th>\n",
              "      <th>Pregnancies</th>\n",
              "      <th>Glucose</th>\n",
              "      <th>BloodPressure</th>\n",
              "      <th>SkinThickness</th>\n",
              "      <th>Insulin</th>\n",
              "      <th>BMI</th>\n",
              "      <th>DiabetesPedigreeFunction</th>\n",
              "      <th>Age</th>\n",
              "    </tr>\n",
              "  </thead>\n",
              "  <tbody>\n",
              "    <tr>\n",
              "      <th>0</th>\n",
              "      <td>2</td>\n",
              "      <td>138</td>\n",
              "      <td>62</td>\n",
              "      <td>35</td>\n",
              "      <td>0</td>\n",
              "      <td>33.6</td>\n",
              "      <td>0.127</td>\n",
              "      <td>47</td>\n",
              "    </tr>\n",
              "    <tr>\n",
              "      <th>1</th>\n",
              "      <td>0</td>\n",
              "      <td>84</td>\n",
              "      <td>82</td>\n",
              "      <td>31</td>\n",
              "      <td>125</td>\n",
              "      <td>38.2</td>\n",
              "      <td>0.233</td>\n",
              "      <td>23</td>\n",
              "    </tr>\n",
              "    <tr>\n",
              "      <th>2</th>\n",
              "      <td>0</td>\n",
              "      <td>145</td>\n",
              "      <td>0</td>\n",
              "      <td>0</td>\n",
              "      <td>0</td>\n",
              "      <td>44.2</td>\n",
              "      <td>0.630</td>\n",
              "      <td>31</td>\n",
              "    </tr>\n",
              "    <tr>\n",
              "      <th>3</th>\n",
              "      <td>0</td>\n",
              "      <td>135</td>\n",
              "      <td>68</td>\n",
              "      <td>42</td>\n",
              "      <td>250</td>\n",
              "      <td>42.3</td>\n",
              "      <td>0.365</td>\n",
              "      <td>24</td>\n",
              "    </tr>\n",
              "    <tr>\n",
              "      <th>4</th>\n",
              "      <td>1</td>\n",
              "      <td>139</td>\n",
              "      <td>62</td>\n",
              "      <td>41</td>\n",
              "      <td>480</td>\n",
              "      <td>40.7</td>\n",
              "      <td>0.536</td>\n",
              "      <td>21</td>\n",
              "    </tr>\n",
              "  </tbody>\n",
              "</table>\n",
              "</div>"
            ],
            "text/plain": [
              "   Pregnancies  Glucose  BloodPressure  SkinThickness  Insulin   BMI  \\\n",
              "0            2      138             62             35        0  33.6   \n",
              "1            0       84             82             31      125  38.2   \n",
              "2            0      145              0              0        0  44.2   \n",
              "3            0      135             68             42      250  42.3   \n",
              "4            1      139             62             41      480  40.7   \n",
              "\n",
              "   DiabetesPedigreeFunction  Age  \n",
              "0                     0.127   47  \n",
              "1                     0.233   23  \n",
              "2                     0.630   31  \n",
              "3                     0.365   24  \n",
              "4                     0.536   21  "
            ]
          },
          "execution_count": 160,
          "metadata": {},
          "output_type": "execute_result"
        }
      ],
      "source": [
        "y = df['Outcome']\n",
        "print(y.describe())\n",
        "X = df.drop('Outcome',axis=1)\n",
        "X.head()"
      ]
    },
    {
      "cell_type": "code",
      "execution_count": null,
      "id": "0222be94-b12a-4f9b-84ce-2387318ffd39",
      "metadata": {
        "id": "0222be94-b12a-4f9b-84ce-2387318ffd39",
        "outputId": "9b264872-b8d3-4c6e-fbed-6c7bc8cde50a"
      },
      "outputs": [
        {
          "data": {
            "text/html": [
              "<div>\n",
              "<style scoped>\n",
              "    .dataframe tbody tr th:only-of-type {\n",
              "        vertical-align: middle;\n",
              "    }\n",
              "\n",
              "    .dataframe tbody tr th {\n",
              "        vertical-align: top;\n",
              "    }\n",
              "\n",
              "    .dataframe thead th {\n",
              "        text-align: right;\n",
              "    }\n",
              "</style>\n",
              "<table border=\"1\" class=\"dataframe\">\n",
              "  <thead>\n",
              "    <tr style=\"text-align: right;\">\n",
              "      <th></th>\n",
              "      <th>Pregnancies</th>\n",
              "      <th>Glucose</th>\n",
              "      <th>BloodPressure</th>\n",
              "      <th>SkinThickness</th>\n",
              "      <th>Insulin</th>\n",
              "      <th>BMI</th>\n",
              "      <th>DiabetesPedigreeFunction</th>\n",
              "      <th>Age</th>\n",
              "    </tr>\n",
              "  </thead>\n",
              "  <tbody>\n",
              "    <tr>\n",
              "      <th>count</th>\n",
              "      <td>2000.000000</td>\n",
              "      <td>2000.000000</td>\n",
              "      <td>2000.000000</td>\n",
              "      <td>2000.000000</td>\n",
              "      <td>2000.000000</td>\n",
              "      <td>2000.000000</td>\n",
              "      <td>2000.000000</td>\n",
              "      <td>2000.000000</td>\n",
              "    </tr>\n",
              "    <tr>\n",
              "      <th>mean</th>\n",
              "      <td>3.703500</td>\n",
              "      <td>121.182500</td>\n",
              "      <td>69.145500</td>\n",
              "      <td>20.935000</td>\n",
              "      <td>80.254000</td>\n",
              "      <td>32.193000</td>\n",
              "      <td>0.470930</td>\n",
              "      <td>33.090500</td>\n",
              "    </tr>\n",
              "    <tr>\n",
              "      <th>std</th>\n",
              "      <td>3.306063</td>\n",
              "      <td>32.068636</td>\n",
              "      <td>19.188315</td>\n",
              "      <td>16.103243</td>\n",
              "      <td>111.180534</td>\n",
              "      <td>8.149901</td>\n",
              "      <td>0.323553</td>\n",
              "      <td>11.786423</td>\n",
              "    </tr>\n",
              "    <tr>\n",
              "      <th>min</th>\n",
              "      <td>0.000000</td>\n",
              "      <td>0.000000</td>\n",
              "      <td>0.000000</td>\n",
              "      <td>0.000000</td>\n",
              "      <td>0.000000</td>\n",
              "      <td>0.000000</td>\n",
              "      <td>0.078000</td>\n",
              "      <td>21.000000</td>\n",
              "    </tr>\n",
              "    <tr>\n",
              "      <th>25%</th>\n",
              "      <td>1.000000</td>\n",
              "      <td>99.000000</td>\n",
              "      <td>63.500000</td>\n",
              "      <td>0.000000</td>\n",
              "      <td>0.000000</td>\n",
              "      <td>27.375000</td>\n",
              "      <td>0.244000</td>\n",
              "      <td>24.000000</td>\n",
              "    </tr>\n",
              "    <tr>\n",
              "      <th>50%</th>\n",
              "      <td>3.000000</td>\n",
              "      <td>117.000000</td>\n",
              "      <td>72.000000</td>\n",
              "      <td>23.000000</td>\n",
              "      <td>40.000000</td>\n",
              "      <td>32.300000</td>\n",
              "      <td>0.376000</td>\n",
              "      <td>29.000000</td>\n",
              "    </tr>\n",
              "    <tr>\n",
              "      <th>75%</th>\n",
              "      <td>6.000000</td>\n",
              "      <td>141.000000</td>\n",
              "      <td>80.000000</td>\n",
              "      <td>32.000000</td>\n",
              "      <td>130.000000</td>\n",
              "      <td>36.800000</td>\n",
              "      <td>0.624000</td>\n",
              "      <td>40.000000</td>\n",
              "    </tr>\n",
              "    <tr>\n",
              "      <th>max</th>\n",
              "      <td>17.000000</td>\n",
              "      <td>199.000000</td>\n",
              "      <td>122.000000</td>\n",
              "      <td>110.000000</td>\n",
              "      <td>744.000000</td>\n",
              "      <td>80.600000</td>\n",
              "      <td>2.420000</td>\n",
              "      <td>81.000000</td>\n",
              "    </tr>\n",
              "  </tbody>\n",
              "</table>\n",
              "</div>"
            ],
            "text/plain": [
              "       Pregnancies      Glucose  BloodPressure  SkinThickness      Insulin  \\\n",
              "count  2000.000000  2000.000000    2000.000000    2000.000000  2000.000000   \n",
              "mean      3.703500   121.182500      69.145500      20.935000    80.254000   \n",
              "std       3.306063    32.068636      19.188315      16.103243   111.180534   \n",
              "min       0.000000     0.000000       0.000000       0.000000     0.000000   \n",
              "25%       1.000000    99.000000      63.500000       0.000000     0.000000   \n",
              "50%       3.000000   117.000000      72.000000      23.000000    40.000000   \n",
              "75%       6.000000   141.000000      80.000000      32.000000   130.000000   \n",
              "max      17.000000   199.000000     122.000000     110.000000   744.000000   \n",
              "\n",
              "               BMI  DiabetesPedigreeFunction          Age  \n",
              "count  2000.000000               2000.000000  2000.000000  \n",
              "mean     32.193000                  0.470930    33.090500  \n",
              "std       8.149901                  0.323553    11.786423  \n",
              "min       0.000000                  0.078000    21.000000  \n",
              "25%      27.375000                  0.244000    24.000000  \n",
              "50%      32.300000                  0.376000    29.000000  \n",
              "75%      36.800000                  0.624000    40.000000  \n",
              "max      80.600000                  2.420000    81.000000  "
            ]
          },
          "execution_count": 161,
          "metadata": {},
          "output_type": "execute_result"
        }
      ],
      "source": [
        "X.describe()"
      ]
    },
    {
      "cell_type": "code",
      "execution_count": null,
      "id": "39575715-512b-4c45-b42f-634f575d99b4",
      "metadata": {
        "id": "39575715-512b-4c45-b42f-634f575d99b4",
        "outputId": "9fc09d8b-ab11-4701-ae45-377fb5be6e3d"
      },
      "outputs": [
        {
          "data": {
            "image/png": "[encoded data removed]",
            "text/plain": [
              "<Figure size 640x480 with 1 Axes>"
            ]
          },
          "metadata": {},
          "output_type": "display_data"
        }
      ],
      "source": [
        "X.plot.box() # Hmm, insulin looks off\n",
        "X['Insulin'] = np.arcsinh(X['Insulin'])"
      ]
    },
    {
      "cell_type": "code",
      "execution_count": null,
      "id": "f6b3c65b-bc29-4262-9fa6-3e3393378d52",
      "metadata": {
        "id": "f6b3c65b-bc29-4262-9fa6-3e3393378d52",
        "outputId": "53ed0ab0-8c18-4975-f98b-8d7d886c3b65"
      },
      "outputs": [
        {
          "data": {
            "text/plain": [
              "<Axes: >"
            ]
          },
          "execution_count": 163,
          "metadata": {},
          "output_type": "execute_result"
        },
        {
          "data": {
            "image/png": "[encoded data removed]",
            "text/plain": [
              "<Figure size 640x480 with 1 Axes>"
            ]
          },
          "metadata": {},
          "output_type": "display_data"
        }
      ],
      "source": [
        "X.plot.box()"
      ]
    },
    {
      "cell_type": "code",
      "execution_count": null,
      "id": "84dfbe20-d8b1-4d6c-9782-536105af3160",
      "metadata": {
        "id": "84dfbe20-d8b1-4d6c-9782-536105af3160"
      },
      "outputs": [],
      "source": [
        "## Test-train split\n",
        "from sklearn.model_selection import train_test_split\n",
        "X_train, X_test, y_train, y_test = train_test_split(X, y, test_size=0.2, random_state=5000)\n",
        "TSS = np.sum( (y_test - y_test.mean())**2 )\n",
        "N_test = len(y_test)"
      ]
    },
    {
      "cell_type": "code",
      "execution_count": null,
      "id": "16decc1a-56a3-4f98-99b4-caa247482ebe",
      "metadata": {
        "id": "16decc1a-56a3-4f98-99b4-caa247482ebe",
        "outputId": "3f2d9410-d98c-490e-df48-487eff63ad04"
      },
      "outputs": [
        {
          "data": {
            "image/png": "[encoded data removed]",
            "text/plain": [
              "<Figure size 640x480 with 1 Axes>"
            ]
          },
          "metadata": {},
          "output_type": "display_data"
        }
      ],
      "source": [
        "## kNN\n",
        "from sklearn.neighbors import KNeighborsRegressor\n",
        "\n",
        "# Maxmin normalization function:\n",
        "def maxmin(z):\n",
        "    z = (z-min(z))/(max(z)-min(z))\n",
        "    return(z)\n",
        "\n",
        "# Apply maxmin to each column of X:\n",
        "X_train_knn = X_train.apply(maxmin)\n",
        "X_test_knn = X_test.apply(maxmin)\n",
        "\n",
        "# Determine optimal k:\n",
        "k_bar = 70\n",
        "k_grid = np.arange(1,k_bar) # The range of k's to consider\n",
        "SSE = np.zeros(k_bar-1) # For comparison purposes, store the training error\n",
        "for k in range(k_bar-1):\n",
        "    model = KNeighborsRegressor(n_neighbors=k+1) # Create a sk model for k\n",
        "    fitted_model = model.fit(X_train_knn,y_train) # Train the model on our data\n",
        "    y_hat = fitted_model.predict(X_test_knn) # Predict values for test set\n",
        "    SSE[k] = np.sum( (y_test-y_hat)**2 ) # Save the computed SSE\n",
        "SSE_min = np.min(SSE) # Lowest recorded SSE\n",
        "min_index = np.where(SSE==SSE_min) # Find the indices of y that equal the minimum\n",
        "k_star = k_grid[min_index][0] # Find the optimal value of k\n",
        "\n",
        "## SSE plot:\n",
        "plt.plot(k_grid,SSE)\n",
        "plt.xlabel(\"k\")\n",
        "plt.ylabel(\"SSE\")\n",
        "plt.title('SSE')\n",
        "plt.show()\n",
        "\n",
        "## Fit optimal model:\n",
        "knn_star = KNeighborsRegressor(n_neighbors=k_star).fit(X_train_knn,y_train)\n",
        "y_hat_knn = knn_star.predict(X_test_knn)\n",
        "\n",
        "## Metrics:\n",
        "SSE_knn = np.sum( (y_test-y_hat_knn)**2 )\n",
        "RMSE_knn = (SSE_knn/N_test)**(1/2)\n",
        "R2_knn = 1 - SSE_knn/TSS"
      ]
    },
    {
      "cell_type": "code",
      "execution_count": null,
      "id": "289bb513-6200-4c0d-a47a-0d196eef2331",
      "metadata": {
        "id": "289bb513-6200-4c0d-a47a-0d196eef2331",
        "outputId": "58fa34df-d4d4-4f7d-bb96-5f2c4d4f1972"
      },
      "outputs": [
        {
          "name": "stdout",
          "output_type": "stream",
          "text": [
            "0.36996530832610586\n",
            "0.36996530832610586\n"
          ]
        }
      ],
      "source": [
        "## Linear Model\n",
        "from sklearn.linear_model import LinearRegression # Import linear regression model\n",
        "from sklearn.preprocessing import PolynomialFeatures\n",
        "\n",
        "# Expand features\n",
        "expander = PolynomialFeatures(degree=3,include_bias=False) # Create the expander\n",
        "#\n",
        "Z_train = expander.fit_transform(X_train) # Pass the df into the expander to get powers/interactions of x and y\n",
        "names = expander.get_feature_names_out() # Get the names of these variables\n",
        "X_train_lm = pd.DataFrame(data=Z_train, columns = names) # Create a new, expanded dataframe\n",
        "#\n",
        "Z_test = expander.fit_transform(X_test) # Pass the df into the expander to get powers/interactions of x and y\n",
        "names = expander.get_feature_names_out() # Get the names of these variables\n",
        "X_test_lm = pd.DataFrame(data=Z_test, columns = names) # Create a new, expanded dataframe\n",
        "\n",
        "# Fit the model and get the R2 measure:\n",
        "reg = LinearRegression().fit(X_train_lm, y_train) # Fit the linear model\n",
        "print(reg.score(X_test_lm, y_test)) # R squared measure\n",
        "\n",
        "# Predicted values:\n",
        "y_hat_lm = reg.predict(X_test_lm)\n",
        "\n",
        "# Metrics:\n",
        "SSE_lm = np.sum( (y_test-y_hat_lm)**2 )\n",
        "RMSE_lm = (SSE_lm/N_test)**(1/2)\n",
        "R2_lm = 1 - SSE_lm/TSS\n"
      ]
    },
    {
      "cell_type": "code",
      "execution_count": null,
      "id": "44bdd294-f793-4aa4-bd18-6425525289eb",
      "metadata": {
        "id": "44bdd294-f793-4aa4-bd18-6425525289eb",
        "outputId": "b38d01a8-011e-4fc3-b4c2-99d078f4c091"
      },
      "outputs": [
        {
          "data": {
            "image/png": "[encoded data removed]",
            "text/plain": [
              "<Figure size 640x480 with 1 Axes>"
            ]
          },
          "metadata": {},
          "output_type": "display_data"
        }
      ],
      "source": [
        "## Decision Trees\n",
        "from sklearn import tree\n",
        "\n",
        "model = tree.DecisionTreeRegressor(max_depth=10) # Fit the classifier\n",
        "cart = model.fit(X_train, y_train)\n",
        "tree.plot_tree(cart,filled=True)\n",
        "\n",
        "## Make Predictions on the Test Set\n",
        "y_hat_cart = cart.predict(X_test)\n",
        "\n",
        "## Metrics:\n",
        "SSE_cart = np.sum( (y_test-y_hat_cart)**2 )\n",
        "RMSE_cart = (SSE_cart/N_test)**(1/2)\n",
        "R2_cart = 1 - SSE_cart/TSS\n"
      ]
    },
    {
      "cell_type": "code",
      "execution_count": null,
      "id": "c333aa30-ce7b-496a-91c4-206debeed84f",
      "metadata": {
        "id": "c333aa30-ce7b-496a-91c4-206debeed84f",
        "outputId": "b39c2c4e-5ab9-4b21-c5d5-3d4f674a1562"
      },
      "outputs": [
        {
          "data": {
            "text/html": [
              "<div>\n",
              "<style scoped>\n",
              "    .dataframe tbody tr th:only-of-type {\n",
              "        vertical-align: middle;\n",
              "    }\n",
              "\n",
              "    .dataframe tbody tr th {\n",
              "        vertical-align: top;\n",
              "    }\n",
              "\n",
              "    .dataframe thead th {\n",
              "        text-align: right;\n",
              "    }\n",
              "</style>\n",
              "<table border=\"1\" class=\"dataframe\">\n",
              "  <thead>\n",
              "    <tr style=\"text-align: right;\">\n",
              "      <th></th>\n",
              "      <th>SSE</th>\n",
              "      <th>RMSE</th>\n",
              "      <th>R2</th>\n",
              "    </tr>\n",
              "  </thead>\n",
              "  <tbody>\n",
              "    <tr>\n",
              "      <th>kNN</th>\n",
              "      <td>62.222222</td>\n",
              "      <td>0.394405</td>\n",
              "      <td>0.326873</td>\n",
              "    </tr>\n",
              "    <tr>\n",
              "      <th>LM</th>\n",
              "      <td>84.827871</td>\n",
              "      <td>0.376005</td>\n",
              "      <td>0.369965</td>\n",
              "    </tr>\n",
              "    <tr>\n",
              "      <th>CART</th>\n",
              "      <td>28.322238</td>\n",
              "      <td>0.266093</td>\n",
              "      <td>0.693607</td>\n",
              "    </tr>\n",
              "  </tbody>\n",
              "</table>\n",
              "</div>"
            ],
            "text/plain": [
              "            SSE      RMSE        R2\n",
              "kNN   62.222222  0.394405  0.326873\n",
              "LM    84.827871  0.376005  0.369965\n",
              "CART  28.322238  0.266093  0.693607"
            ]
          },
          "execution_count": 168,
          "metadata": {},
          "output_type": "execute_result"
        }
      ],
      "source": [
        "gdf = pd.DataFrame({'SSE':[SSE_knn,SSE_lm,SSE_cart],\n",
        "                    'RMSE':[RMSE_knn,RMSE_lm,RMSE_cart],\n",
        "                    'R2':[R2_knn,R2_lm,R2_cart]})\n",
        "gdf.index = ['kNN','LM','CART']\n",
        "gdf.head()"
      ]
    },
    {
      "cell_type": "markdown",
      "id": "5a9ae509-a100-4908-a719-e9fe47be8dc0",
      "metadata": {
        "id": "5a9ae509-a100-4908-a719-e9fe47be8dc0"
      },
      "source": [
        "## Example: Credit Default\n",
        "- `'./data/brazil_default.csv'`\n",
        "- 50000 observations of 54 socio-economic/demographic variables on account holders in Brazil like income, age, residence type, marital status, etc.\n",
        "- The target variable is whether they fail to pay their debt on the account, which is defaulting: We want to predict the probability of default"
      ]
    },
    {
      "cell_type": "markdown",
      "id": "47233d4b-af90-4639-ba12-c29deb9575a4",
      "metadata": {
        "id": "47233d4b-af90-4639-ba12-c29deb9575a4"
      },
      "source": [
        "## Classification\n",
        "- Suppose we want to put aside the continuous nature of the predictors, and predict categories rather than numeric values\n",
        "- Instead of thinking of the categories 0 and 1 as numbers and a prediction as a probability, think of the categories 0 and 1 as just categories with no inherent numeric meaning\n",
        "- With Decision Trees and $k$NN, we can take the majority classification for those neighbors or that terminal node\n",
        "- With a linear model $y = x\\cdot b$, we have to round values below some threshold $s$ to 0 and above some threshold $s$ to 1; for now, let's take $s=1/2$"
      ]
    },
    {
      "cell_type": "markdown",
      "id": "fb36f8db-84ca-4e2e-a556-1bee60d00f3f",
      "metadata": {
        "id": "fb36f8db-84ca-4e2e-a556-1bee60d00f3f"
      },
      "source": [
        "## Linear Models and Classification: The Binary Outcomes Case\n",
        "- With Decision Trees, outcomes can be the proportion of 1's in a terminal node if impure, or a majority vote can be taken\n",
        "- With $k$NN, the average of the neighbors' values can be taken as a regression prediction, or a majority vote can be taken\n",
        "- - When outcome are binary (0/1), a linear model $y = x\\cdot b$ provides a predicted probability of taking the value 1 (predicted values can end up being less than 0 or greater than 1, which is undesirable), or the class with the higher probability can be predicted\n",
        "- Linear models, in the flavor we use, can only really do binary classification (support vector machines/linear discrimination analysis/multinomial logit are all models that use linear models as a workhorse or puzzle piece to do multiclass discrimination)"
      ]
    },
    {
      "cell_type": "markdown",
      "id": "a14c458b-622a-439a-98af-7278a63f3d18",
      "metadata": {
        "id": "a14c458b-622a-439a-98af-7278a63f3d18"
      },
      "source": [
        "## Performance and Binary Classification\n",
        "- Besides regression, many tasks require us to make categorical predictions: For a given $\\hat{x}$, which of $J$ categories is it most likely to fit into?\n",
        "- By far, the most common and studied case is when there are two categories, and classification is *binary*\n",
        "- In this case, we can use $k$NN with a majority voting rule or case averaging, decision trees, or a linear regression of $x \\cdot b$ on the $\\{0,1\\}$ potential outcomes\n",
        "- We'll look at the main way of studying the performance of classifiers: *Confusion Matrices*"
      ]
    },
    {
      "cell_type": "markdown",
      "id": "467491ce-230e-4094-9eeb-c506e54a9f48",
      "metadata": {
        "id": "467491ce-230e-4094-9eeb-c506e54a9f48"
      },
      "source": [
        "## Confusion Matrices\n",
        "- We typically represent a binary classifier's performance on the testing/validation set in a cross tabulation:\n",
        "\n",
        "|  | Predicted Negative | Predicted Positive|\n",
        "| :---: | :---:| :---: |\n",
        "| Actual Negative | True Negative (TN) | False Positive (FP) |\n",
        "| Actual Positive | False Negative (FN) | True Positive (TP) |\n",
        "\n",
        "- We are obviously most concerned about False Positive and False Negatives --- These are the cases in which the model can produce significant harm by failing to correctly predict the outome\n",
        "- In the real world, the consequences of a FP or FN are probably not the same, and you should keep this in mind (failing to detect a disease [FN] has more severe consequences for a patient than mistakenly detecting a disase that isn't there [FP])"
      ]
    },
    {
      "cell_type": "markdown",
      "id": "353262fd-e3fe-4dee-b6e9-a86e24768a3a",
      "metadata": {
        "id": "353262fd-e3fe-4dee-b6e9-a86e24768a3a"
      },
      "source": [
        "## Example: Confusion Matrices\n",
        "- Confusion Matrices are cross-tabulations of actual versus predicted values, and all of the Fit Measures are calculations on those cross-tabs intended to mimic a probability or conditional probability (\"Given that I've predicted a positive...\" or \"Given that my prediction is correct...\" or \"Given that the truth is a positive...\", etc.)\n",
        "- What do these look like for the Diabetes and Default data?"
      ]
    },
    {
      "cell_type": "markdown",
      "id": "8f93885f-5885-4778-a7d1-04759340421f",
      "metadata": {
        "id": "8f93885f-5885-4778-a7d1-04759340421f"
      },
      "source": [
        "## Fit Measures\n",
        "- Let $Tot = TN + FP + FN + TP$, the total number of cases\n",
        "- Prevalence: (Proportion of positive predictions)\n",
        "$$\\dfrac{TP+FN}{Tot}$$  \n",
        "- Accuracy: (Propotion correctly predicted)\n",
        "$$\\dfrac{TP+TN}{Tot} $$\n",
        "- Error rate: (Proportion incorrectly predicted)\n",
        "$$\\dfrac{FP+FN}{Tot}= 1-\\dfrac{TP+TN}{Tot}$$\n",
        "- Precision: (Given a positive prediction, proportion correct)\n",
        "$$\\dfrac{TP}{TP+FP}$$"
      ]
    },
    {
      "cell_type": "markdown",
      "id": "da325a32-1e8b-4788-8c12-b2e61c541dc2",
      "metadata": {
        "id": "da325a32-1e8b-4788-8c12-b2e61c541dc2"
      },
      "source": [
        "## Fit Measures\n",
        "- **True Positive Rate**, Sensitivity, Hit Rate: (Given a positive prediction, proportion correct)\n",
        "$$TPR = \\dfrac{TP}{TP+FN}$$  \n",
        "- **False Positive Rate**, False Alarm Rate, Miss Rate: (Given a positive prediction, proportion incorrect)\n",
        "$$FPR = \\dfrac{FP}{TN+FP}$$\n",
        "- True Negative Rate, Specificity: (Given a negative prediction, proportion correct)\n",
        "$$\n",
        "TNR = \\dfrac{TN}{TN+FP}\n",
        "$$\n",
        "- Notice how, if we are \"most worried\" about the positive cases, $TPR$ and $FPR$ are sufficient to think about performance?"
      ]
    }
  ],
  "metadata": {
    "kernelspec": {
      "display_name": "Python 3 (ipykernel)",
      "language": "python",
      "name": "python3"
    },
    "language_info": {
      "codemirror_mode": {
        "name": "ipython",
        "version": 3
      },
      "file_extension": ".py",
      "mimetype": "text/x-python",
      "name": "python",
      "nbconvert_exporter": "python",
      "pygments_lexer": "ipython3",
      "version": "3.10.4"
    },
    "colab": {
      "provenance": []
    }
  },
  "nbformat": 4,
  "nbformat_minor": 5
}